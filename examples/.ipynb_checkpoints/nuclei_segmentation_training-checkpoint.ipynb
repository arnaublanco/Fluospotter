{
 "cells": [
  {
   "cell_type": "markdown",
   "id": "13aa8d6e-1b8b-421d-9640-fb70d3c8b87b",
   "metadata": {},
   "source": [
    "# Nuclei segmentation\n",
    "\n",
    "In the following, we describe how to segment cell nuclei using fluospotter.\n",
    "\n",
    "First, we need to install fluospotter if not installed:\n",
    "\n",
    "`pip install fluospotter`\n",
    "\n",
    "Or alternatively:\n",
    "\n",
    "`pip install https://github.com/arnaublanco/Fluospotter`\n",
    "\n",
    "Secondly, we need to load our data, we can do so by placing the data as TIF files with format (depth, height, width), that is, a stack of 2D images, in a folder called `test`.\n",
    "\n",
    "&nbsp;\n",
    "<img src=\"images/test_folder_data.png\" width=700>\n",
    "&nbsp;\n",
    "\n",
    "Normally, if we were to train our custom model, we would have three folders: `train`, `test` and `valid`, like so:\n",
    "\n",
    "&nbsp;\n",
    "<img src=\"images/test_folder.png\" width=700>\n",
    "&nbsp;\n",
    "\n",
    "But in this case, since we're only going to use our model to predict, we only need the `test` folder. To load the data, we need to do it in the following manner:"
   ]
  },
  {
   "cell_type": "code",
   "execution_count": null,
   "id": "e9e5ff6a-70c1-4b36-9e02-07db897936fa",
   "metadata": {},
   "outputs": [],
   "source": [
    "from fluospotter.datasets import Dataset\n",
    "\n",
    "data = Dataset(data_dir=\"data\") # Here we specify the root folder, which in our case is `data` that contains the `test` folder"
   ]
  },
  {
   "cell_type": "markdown",
   "id": "5df92953-1a10-421a-9b97-b460867e55cc",
   "metadata": {},
   "source": [
    "Now, to segment our TIF files, we need to create an instance of a pretrained model, like so:"
   ]
  },
  {
   "cell_type": "code",
   "execution_count": null,
   "id": "de6b9c97-a0e5-427b-a4b3-7990555afe36",
   "metadata": {},
   "outputs": [],
   "source": [
    "# We specify the configuration of the model with several set parameters\n",
    "cfg = {\n",
    "    \"patch_size\": \"48/256/256\",\n",
    "    \"n_classes\": \"3\",\n",
    "    \"im_size\": \"48/512/512\",\n",
    "    \"instance_seg\": \"True\",\n",
    "    \"refinement\": \"True\"\n",
    "}\n",
    "\n",
    "model = SegmentationModel(model_name=\"dynunet\", configuration=cfg, pretrained=\"models/seg_model.pth\", refinement=\"models/refinement.pth\")"
   ]
  },
  {
   "cell_type": "markdown",
   "id": "2e58bb24-1a58-4344-8d84-b6b46bdbd862",
   "metadata": {},
   "source": [
    "Finally, to segment the data, we simply need to call the `predict` method, which returns the corresponding predictions."
   ]
  },
  {
   "cell_type": "code",
   "execution_count": null,
   "id": "6d021d2b-e32d-49d9-a7da-d258280cbf1b",
   "metadata": {},
   "outputs": [],
   "source": [
    "preds = model.predict(data)"
   ]
  },
  {
   "cell_type": "markdown",
   "id": "30ca27cc-1a8e-41de-a516-0694e6e1e9d8",
   "metadata": {},
   "source": [
    "### Alternative (directly with a `numpy.array`)\n",
    "\n",
    "If our data is already loaded, for example, in a `numpy.array`, we can alternatively use the `predict_image` method:"
   ]
  },
  {
   "cell_type": "code",
   "execution_count": null,
   "id": "fa31b15e-41ee-416b-ba65-cfad4dbfc749",
   "metadata": {},
   "outputs": [],
   "source": [
    "data = ... # Our data in a `numpy.array` format with (n_volumes, depth, height, width)\n",
    "\n",
    "preds = model.predict_image(data)"
   ]
  }
 ],
 "metadata": {
  "kernelspec": {
   "display_name": "Python 3 (ipykernel)",
   "language": "python",
   "name": "python3"
  },
  "language_info": {
   "codemirror_mode": {
    "name": "ipython",
    "version": 3
   },
   "file_extension": ".py",
   "mimetype": "text/x-python",
   "name": "python",
   "nbconvert_exporter": "python",
   "pygments_lexer": "ipython3",
   "version": "3.11.5"
  }
 },
 "nbformat": 4,
 "nbformat_minor": 5
}
